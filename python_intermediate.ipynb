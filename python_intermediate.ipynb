{
 "cells": [
  {
   "cell_type": "markdown",
   "metadata": {},
   "source": [
    "# 사용자 입력 (input)"
   ]
  },
  {
   "cell_type": "code",
   "execution_count": 1,
   "metadata": {
    "ExecuteTime": {
     "end_time": "2019-10-09T23:14:19.747668Z",
     "start_time": "2019-10-09T23:00:27.050233Z"
    }
   },
   "outputs": [
    {
     "name": "stdout",
     "output_type": "stream",
     "text": [
      "<값>을 입력하세요: Hello world!!\n",
      "당신이 입력한 값은 <Hello world!!> 입니다.\n"
     ]
    }
   ],
   "source": [
    "k = input('<값>을 입력하세요: ')\n",
    "print('당신이 입력한 값은 <' + k + '> 입니다.')"
   ]
  },
  {
   "cell_type": "markdown",
   "metadata": {},
   "source": [
    "# 자료형 확인 (type)"
   ]
  },
  {
   "cell_type": "code",
   "execution_count": 2,
   "metadata": {
    "ExecuteTime": {
     "end_time": "2019-10-09T23:31:46.854316Z",
     "start_time": "2019-10-09T23:31:46.847335Z"
    }
   },
   "outputs": [
    {
     "name": "stdout",
     "output_type": "stream",
     "text": [
      "<class 'int'>\n",
      "<class 'str'>\n",
      "<class 'list'>\n",
      "<class 'dict'>\n",
      "<class 'function'>\n"
     ]
    }
   ],
   "source": [
    "numdata = 57\n",
    "strdata = '파이썬'\n",
    "listdata = [1, 2, 3]\n",
    "dictdata = {'a':1, 'b':2}\n",
    "\n",
    "def func():\n",
    "   print('안녕하세요.')\n",
    "\n",
    "print(type(numdata))\n",
    "print(type(strdata))\n",
    "print(type(listdata))\n",
    "print(type(dictdata))\n",
    "print(type(func))"
   ]
  },
  {
   "cell_type": "markdown",
   "metadata": {},
   "source": [
    "# 나눗셈에서 나머지만 구하기 (%)\n",
    "\n",
    "* 나머지만 구하는 연산자 - %"
   ]
  },
  {
   "cell_type": "code",
   "execution_count": 1,
   "metadata": {
    "ExecuteTime": {
     "end_time": "2019-10-10T12:27:24.801811Z",
     "start_time": "2019-10-10T12:27:24.796823Z"
    }
   },
   "outputs": [
    {
     "name": "stdout",
     "output_type": "stream",
     "text": [
      "<11113>를 <23>로 나누면 <4>가 나머지로 남습니다.\n"
     ]
    }
   ],
   "source": [
    "a = 11113\n",
    "b = 23\n",
    "ret = a%b\n",
    "print('<%d>를 <%d>로 나누면 <%d>가 나머지로 남습니다.' %(a, b, ret))"
   ]
  },
  {
   "cell_type": "markdown",
   "metadata": {},
   "source": [
    "# 몫과 나머지 구하기(divmod)"
   ]
  },
  {
   "cell_type": "code",
   "execution_count": 2,
   "metadata": {
    "ExecuteTime": {
     "end_time": "2019-10-10T12:28:00.053791Z",
     "start_time": "2019-10-10T12:28:00.046814Z"
    }
   },
   "outputs": [
    {
     "name": "stdout",
     "output_type": "stream",
     "text": [
      "<11113/23>는 몫이 <483>, 나머지가 <4>입니다.\n"
     ]
    }
   ],
   "source": [
    "a = 11113\n",
    "b = 23\n",
    "ret1, ret2 = divmod(a, b)\n",
    "print('<%d/%d>는 몫이 <%d>, 나머지가 <%d>입니다.' %(a, b, ret1, ret2))\n"
   ]
  },
  {
   "cell_type": "markdown",
   "metadata": {},
   "source": [
    "# 10진수를 16진수로 변환하기(hex)"
   ]
  },
  {
   "cell_type": "code",
   "execution_count": 3,
   "metadata": {
    "ExecuteTime": {
     "end_time": "2019-10-10T12:40:30.265212Z",
     "start_time": "2019-10-10T12:40:30.259227Z"
    }
   },
   "outputs": [
    {
     "name": "stdout",
     "output_type": "stream",
     "text": [
      "0x610x62\n",
      "0xc3\n"
     ]
    }
   ],
   "source": [
    "h1 = hex(97)       # h1은 문자열 ‘0x61’\n",
    "h2 = hex(98)       # h2는 문자열 ‘0x62’\n",
    "ret1 = h1 +h2      \n",
    "print(ret1)          # ‘0x610x62’ 가 출력됨\n",
    "a = int(h1, 16)\n",
    "b = int(h2, 16)\n",
    "ret2 = a + b       # ret2는 10진수 195가 됨\n",
    "print(hex(ret2))     # ‘0xc3’ 가 출력됨"
   ]
  },
  {
   "cell_type": "markdown",
   "metadata": {},
   "source": [
    "# 10진수를 2진수로 변환하기(bin)"
   ]
  },
  {
   "cell_type": "code",
   "execution_count": 4,
   "metadata": {
    "ExecuteTime": {
     "end_time": "2019-10-10T12:41:18.586037Z",
     "start_time": "2019-10-10T12:41:18.580052Z"
    }
   },
   "outputs": [
    {
     "name": "stdout",
     "output_type": "stream",
     "text": [
      "0b11000010b1100010\n",
      "0b11000011\n"
     ]
    }
   ],
   "source": [
    "b1 = bin(97)     # b1은 문자열 ‘0b11000001’\n",
    "b2 = bin(98)     # b2는 문자열 ‘0b11000010’\n",
    "ret1 = b1 + b2  \n",
    "print(ret1)       # ‘0b110000010b11000010’가 출력됨\n",
    "a = int(b1, 2)\n",
    "b = int(b2, 2)\n",
    "ret2 = a + b\n",
    "print(bin(ret2))   # ‘0b11000011’ 이 출력됨\n"
   ]
  },
  {
   "cell_type": "markdown",
   "metadata": {},
   "source": [
    "# 2진수, 16진수를 10진수로 변환하기 (int)"
   ]
  },
  {
   "cell_type": "code",
   "execution_count": 6,
   "metadata": {
    "ExecuteTime": {
     "end_time": "2019-10-10T12:42:00.605247Z",
     "start_time": "2019-10-10T12:42:00.598257Z"
    }
   },
   "outputs": [
    {
     "name": "stdout",
     "output_type": "stream",
     "text": [
      "240\n",
      "240\n",
      "240\n",
      "240\n",
      "240\n",
      "240\n"
     ]
    }
   ],
   "source": [
    "bnum = 0b11110000; bstr = '0b11110000'\n",
    "onum = 0o360; ostr = '0o360'\n",
    "hnum = 0xf0; hstr = '0xf0'\n",
    "b1 = int(bnum); b2 = int(bstr, 2)   # b2 = int(bstr, 0)로도 가능\n",
    "o1 = int(onum); o2 = int(ostr, 8)   # o2 = int(ostr, 0)로도 가능\n",
    "h1 = int(hnum); h2 = int(hstr, 16)  # h2 = int(hstr, 0)로도 가능\n",
    "print(b1); print(b2)\n",
    "print(o1); print(o2)\n",
    "print(h1); print(h2)\n"
   ]
  },
  {
   "cell_type": "markdown",
   "metadata": {},
   "source": [
    "# 절대값 구하기(abs)"
   ]
  },
  {
   "cell_type": "code",
   "execution_count": 7,
   "metadata": {
    "ExecuteTime": {
     "end_time": "2019-10-10T12:52:33.663616Z",
     "start_time": "2019-10-10T12:52:33.657643Z"
    }
   },
   "outputs": [
    {
     "name": "stdout",
     "output_type": "stream",
     "text": [
      "3\n",
      "5.72\n",
      "5.0\n"
     ]
    }
   ],
   "source": [
    "abs1 = abs(-3)        # 정수의 절대값\n",
    "abs2 = abs(-5.72)      # 실수의 절대값\n",
    "abs3 = abs(3+4j)      # 복소수의 절대값\n",
    "print(abs1)       # 3이 출력됨\n",
    "print(abs2)       # 5.72가 출력됨\n",
    "print(abs3)       # 5.0이 출력됨\n",
    "# 복소수의 크기는 루트 a제곱 + b제곱"
   ]
  },
  {
   "cell_type": "markdown",
   "metadata": {},
   "source": [
    "# 반올림수 구하기(round)"
   ]
  },
  {
   "cell_type": "code",
   "execution_count": 8,
   "metadata": {
    "ExecuteTime": {
     "end_time": "2019-10-10T12:53:43.473783Z",
     "start_time": "2019-10-10T12:53:43.468829Z"
    }
   },
   "outputs": [
    {
     "name": "stdout",
     "output_type": "stream",
     "text": [
      "1118\n",
      "17\n",
      "1120\n",
      "16.55\n"
     ]
    }
   ],
   "source": [
    "ret1 = round(1118)    # 소수점 첫째자리에서 반올림해줌\n",
    "ret2 = round(16.554)    # 소수점 첫째자리에서 반올림해줌\n",
    "ret3 = round(1118, -1)  # 1자리에서 반올림해줌\n",
    "ret4 = round(16.554, 2)  # 소수점 셋째자리에서 반올림해줌\n",
    "print(ret1)   # 1118\n",
    "print(ret2)   # 17\n",
    "print(ret3)   # 1120\n",
    "print(ret4)   # 16.55\n"
   ]
  },
  {
   "cell_type": "markdown",
   "metadata": {},
   "source": [
    "# 실수형 자료를 정수형 자료로 변환(int)"
   ]
  },
  {
   "cell_type": "code",
   "execution_count": 9,
   "metadata": {
    "ExecuteTime": {
     "end_time": "2019-10-10T12:55:40.459433Z",
     "start_time": "2019-10-10T12:55:40.453449Z"
    }
   },
   "outputs": [
    {
     "name": "stdout",
     "output_type": "stream",
     "text": [
      "-5\n",
      "17\n",
      "171\n"
     ]
    }
   ],
   "source": [
    "idata1 = int(-5.4)\n",
    "idata2 = int(1.78e1)\n",
    "idata3 = int(171.56)\n",
    "print(idata1)   # -5가 출력됨\n",
    "print(idata2)   # 17이 출력됨\n",
    "print(idata3)   # 171이 출력됨"
   ]
  },
  {
   "cell_type": "markdown",
   "metadata": {},
   "source": [
    "# 정수형 자료를 실수형 자료로 변환(float)"
   ]
  },
  {
   "cell_type": "code",
   "execution_count": 10,
   "metadata": {
    "ExecuteTime": {
     "end_time": "2019-10-10T12:56:16.842891Z",
     "start_time": "2019-10-10T12:56:16.837904Z"
    }
   },
   "outputs": [
    {
     "name": "stdout",
     "output_type": "stream",
     "text": [
      "10.0\n"
     ]
    }
   ],
   "source": [
    "fdata = float(10)\n",
    "print(fdata)   # 10.0으로 출력됨"
   ]
  },
  {
   "cell_type": "markdown",
   "metadata": {},
   "source": [
    "# 정수 리스트에서 소수만 걸러내기(filter)\n",
    "\n",
    "* 파이썬 내장함수 filter()는 리스트와 같이 반복 가능한 자료에서 특정 조건을 만족하는 값만을 편리하게 추출할 수 있는 방법을 제공한다.\n",
    "* filter()의 첫 번째 인사는 특정조건의 값을 추출하는 함수가 입려되며, 두 번째 인자는 리스트와 같은 반복 가능한 자료가 입력된다.\n"
   ]
  },
  {
   "cell_type": "code",
   "execution_count": 11,
   "metadata": {
    "ExecuteTime": {
     "end_time": "2019-10-10T12:56:28.455690Z",
     "start_time": "2019-10-10T12:56:28.447711Z"
    }
   },
   "outputs": [
    {
     "name": "stdout",
     "output_type": "stream",
     "text": [
      "[11113, 11119]\n"
     ]
    }
   ],
   "source": [
    "def getPrime(x):\n",
    "   for i in range(2, x-1):\n",
    "      if x%i == 0:\n",
    "         break\n",
    "   else:\n",
    "      return x\n",
    "\n",
    "listdata = [117, 119, 1113, 11113, 11119]\n",
    "ret = filter(getPrime, listdata)\n",
    "print(list(ret))            # [11113, 11119] 가 출력됨\n"
   ]
  },
  {
   "cell_type": "code",
   "execution_count": 16,
   "metadata": {
    "ExecuteTime": {
     "end_time": "2019-10-10T13:08:43.869104Z",
     "start_time": "2019-10-10T13:08:43.864115Z"
    }
   },
   "outputs": [
    {
     "name": "stdout",
     "output_type": "stream",
     "text": [
      "[2, 3, 5, 7, 11, 13, 17, 19, 23, 29, 31, 37, 41, 43, 47, 53, 59, 61, 67, 71, 73, 79, 83, 89, 97]\n"
     ]
    }
   ],
   "source": [
    "# 정수 n 이하의 모든 소수 구하기\n",
    "def getPrime(n):\n",
    "    ret = [2]\n",
    "    if n < 2:\n",
    "        return ret\n",
    "    \n",
    "    for i in range(3, n+1, 2):\n",
    "        for k in range(3, int(i/2), 2):\n",
    "            a = i % k\n",
    "            if a == 0:\n",
    "                break\n",
    "        else:\n",
    "            ret.append(i)\n",
    "        \n",
    "    return ret\n",
    "\n",
    "ret = getPrime(100)\n",
    "print(ret)"
   ]
  },
  {
   "cell_type": "markdown",
   "metadata": {},
   "source": [
    "# 최댓값, 최소값 구하기 (max, min)"
   ]
  },
  {
   "cell_type": "markdown",
   "metadata": {},
   "source": [
    "# 1바이트에서 하위 4비트 추출하기"
   ]
  },
  {
   "cell_type": "markdown",
   "metadata": {},
   "source": [
    "# 1바이트에서 상위 4비트 추출하기"
   ]
  },
  {
   "cell_type": "markdown",
   "metadata": {},
   "source": [
    "# 문자열에서 특정 위치의 문자 얻기"
   ]
  },
  {
   "cell_type": "markdown",
   "metadata": {},
   "source": [
    "# 문자열에서 지정한 구간의 문자열 얻기"
   ]
  },
  {
   "cell_type": "markdown",
   "metadata": {},
   "source": [
    "# 문자열에서 홀수 번째 문자만 추출"
   ]
  },
  {
   "cell_type": "markdown",
   "metadata": {},
   "source": [
    "# 문자열을 거꾸로 만들기"
   ]
  },
  {
   "cell_type": "markdown",
   "metadata": {},
   "source": [
    "# 두 개의 문자열 합치기(+)"
   ]
  },
  {
   "cell_type": "markdown",
   "metadata": {},
   "source": [
    "# 문자열을 반복해서 새로운 문자열 만들기(*)"
   ]
  },
  {
   "cell_type": "markdown",
   "metadata": {},
   "source": [
    "# 문자열에서 특정 문자가 있는지 확인하기(in)"
   ]
  },
  {
   "cell_type": "markdown",
   "metadata": {},
   "source": [
    "# 문자열에서 특정 문자열이 있는지 확인하기(in)"
   ]
  },
  {
   "cell_type": "markdown",
   "metadata": {},
   "source": [
    "# 문자열 길이 구하기(len)"
   ]
  },
  {
   "cell_type": "markdown",
   "metadata": {},
   "source": [
    "# 문자열이 알파벳인지 검사하기(isalpha)"
   ]
  },
  {
   "cell_type": "markdown",
   "metadata": {},
   "source": [
    "# 문자열이 숫자인지 검사하기(isdigit)"
   ]
  },
  {
   "cell_type": "markdown",
   "metadata": {},
   "source": [
    "# 문자열이 알파벳 또는 숫자인지 검사하기(isalnum)"
   ]
  },
  {
   "cell_type": "markdown",
   "metadata": {},
   "source": [
    "# 문자열에서 대소문자 변환하기(upper, lower)"
   ]
  },
  {
   "cell_type": "markdown",
   "metadata": {},
   "source": [
    "# 문자열에서 좌우 공백 제거하기(lstrip, rstrip, strip)"
   ]
  },
  {
   "cell_type": "markdown",
   "metadata": {},
   "source": [
    "# 문자열을 수치형 자료로 변환하기(int, float)"
   ]
  },
  {
   "cell_type": "markdown",
   "metadata": {},
   "source": [
    "# 수치형 자료를 문자열로 변환하기(str)"
   ]
  },
  {
   "cell_type": "markdown",
   "metadata": {},
   "source": [
    "# 문자열에 있는 문자(열) 개수 구하기(count)"
   ]
  },
  {
   "cell_type": "markdown",
   "metadata": {},
   "source": [
    "# 문자열에서 특정 문자(열) 위치 찾기(find)"
   ]
  },
  {
   "cell_type": "markdown",
   "metadata": {},
   "source": [
    "# 문자열을 특정문자(열)로 분리 하기(split)"
   ]
  },
  {
   "cell_type": "markdown",
   "metadata": {},
   "source": [
    "# 문자열을 특정 문자(열)로 결합하기(join)"
   ]
  },
  {
   "cell_type": "markdown",
   "metadata": {},
   "source": [
    "# 문자열에서 특정 문자(열)를 다른 문자(열)로 바꾸기(replace)"
   ]
  },
  {
   "cell_type": "markdown",
   "metadata": {},
   "source": [
    "# 문자열을 바이트 객체로 바꾸기(encode)"
   ]
  },
  {
   "cell_type": "markdown",
   "metadata": {},
   "source": [
    "# 바이트 객체를 문자열로 바꾸기(decode)"
   ]
  },
  {
   "cell_type": "markdown",
   "metadata": {},
   "source": [
    "# 문자열을 정렬하기(sorted, join)"
   ]
  },
  {
   "cell_type": "markdown",
   "metadata": {},
   "source": [
    "# 순차적인 정수 리스트 만들기(range)"
   ]
  },
  {
   "cell_type": "markdown",
   "metadata": {},
   "source": [
    "# 리스트에서 특정 위치의 요소 얻기"
   ]
  },
  {
   "cell_type": "markdown",
   "metadata": {},
   "source": []
  },
  {
   "cell_type": "markdown",
   "metadata": {},
   "source": []
  },
  {
   "cell_type": "markdown",
   "metadata": {},
   "source": []
  },
  {
   "cell_type": "markdown",
   "metadata": {},
   "source": []
  },
  {
   "cell_type": "markdown",
   "metadata": {},
   "source": []
  },
  {
   "cell_type": "markdown",
   "metadata": {},
   "source": []
  },
  {
   "cell_type": "markdown",
   "metadata": {},
   "source": []
  },
  {
   "cell_type": "markdown",
   "metadata": {},
   "source": []
  },
  {
   "cell_type": "markdown",
   "metadata": {},
   "source": []
  },
  {
   "cell_type": "markdown",
   "metadata": {},
   "source": []
  },
  {
   "cell_type": "markdown",
   "metadata": {},
   "source": []
  },
  {
   "cell_type": "markdown",
   "metadata": {},
   "source": []
  },
  {
   "cell_type": "markdown",
   "metadata": {},
   "source": []
  },
  {
   "cell_type": "markdown",
   "metadata": {},
   "source": []
  },
  {
   "cell_type": "markdown",
   "metadata": {},
   "source": []
  },
  {
   "cell_type": "markdown",
   "metadata": {},
   "source": []
  },
  {
   "cell_type": "markdown",
   "metadata": {},
   "source": []
  },
  {
   "cell_type": "markdown",
   "metadata": {},
   "source": []
  },
  {
   "cell_type": "markdown",
   "metadata": {},
   "source": []
  },
  {
   "cell_type": "markdown",
   "metadata": {},
   "source": []
  },
  {
   "cell_type": "markdown",
   "metadata": {},
   "source": []
  },
  {
   "cell_type": "markdown",
   "metadata": {},
   "source": []
  }
 ],
 "metadata": {
  "hide_input": false,
  "kernelspec": {
   "display_name": "Python 3",
   "language": "python",
   "name": "python3"
  },
  "language_info": {
   "codemirror_mode": {
    "name": "ipython",
    "version": 3
   },
   "file_extension": ".py",
   "mimetype": "text/x-python",
   "name": "python",
   "nbconvert_exporter": "python",
   "pygments_lexer": "ipython3",
   "version": "3.6.9"
  },
  "toc": {
   "base_numbering": 1,
   "nav_menu": {},
   "number_sections": true,
   "sideBar": true,
   "skip_h1_title": false,
   "title_cell": "Table of Contents",
   "title_sidebar": "Contents",
   "toc_cell": false,
   "toc_position": {},
   "toc_section_display": true,
   "toc_window_display": false
  },
  "varInspector": {
   "cols": {
    "lenName": 16,
    "lenType": 16,
    "lenVar": 40
   },
   "kernels_config": {
    "python": {
     "delete_cmd_postfix": "",
     "delete_cmd_prefix": "del ",
     "library": "var_list.py",
     "varRefreshCmd": "print(var_dic_list())"
    },
    "r": {
     "delete_cmd_postfix": ") ",
     "delete_cmd_prefix": "rm(",
     "library": "var_list.r",
     "varRefreshCmd": "cat(var_dic_list()) "
    }
   },
   "types_to_exclude": [
    "module",
    "function",
    "builtin_function_or_method",
    "instance",
    "_Feature"
   ],
   "window_display": false
  }
 },
 "nbformat": 4,
 "nbformat_minor": 2
}
