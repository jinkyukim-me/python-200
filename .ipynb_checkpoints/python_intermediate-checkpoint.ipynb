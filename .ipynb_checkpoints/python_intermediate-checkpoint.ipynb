{
 "cells": [
  {
   "cell_type": "markdown",
   "metadata": {},
   "source": [
    "# 사용자 입력 (input)"
   ]
  },
  {
   "cell_type": "code",
   "execution_count": 1,
   "metadata": {
    "ExecuteTime": {
     "end_time": "2019-10-09T23:14:19.747668Z",
     "start_time": "2019-10-09T23:00:27.050233Z"
    }
   },
   "outputs": [
    {
     "name": "stdout",
     "output_type": "stream",
     "text": [
      "<값>을 입력하세요: Hello world!!\n",
      "당신이 입력한 값은 <Hello world!!> 입니다.\n"
     ]
    }
   ],
   "source": [
    "k = input('<값>을 입력하세요: ')\n",
    "print('당신이 입력한 값은 <' + k + '> 입니다.')"
   ]
  },
  {
   "cell_type": "markdown",
   "metadata": {},
   "source": [
    "# 자료형 확인 (type)"
   ]
  },
  {
   "cell_type": "code",
   "execution_count": 2,
   "metadata": {
    "ExecuteTime": {
     "end_time": "2019-10-09T23:31:46.854316Z",
     "start_time": "2019-10-09T23:31:46.847335Z"
    }
   },
   "outputs": [
    {
     "name": "stdout",
     "output_type": "stream",
     "text": [
      "<class 'int'>\n",
      "<class 'str'>\n",
      "<class 'list'>\n",
      "<class 'dict'>\n",
      "<class 'function'>\n"
     ]
    }
   ],
   "source": [
    "numdata = 57\n",
    "strdata = '파이썬'\n",
    "listdata = [1, 2, 3]\n",
    "dictdata = {'a':1, 'b':2}\n",
    "\n",
    "def func():\n",
    "   print('안녕하세요.')\n",
    "\n",
    "print(type(numdata))\n",
    "print(type(strdata))\n",
    "print(type(listdata))\n",
    "print(type(dictdata))\n",
    "print(type(func))"
   ]
  },
  {
   "cell_type": "markdown",
   "metadata": {},
   "source": [
    "# 나눗셈에서 나머지만 구하기 (%)\n",
    "\n",
    "* 나머지만 구하는 연산자 - %"
   ]
  },
  {
   "cell_type": "code",
   "execution_count": 1,
   "metadata": {
    "ExecuteTime": {
     "end_time": "2019-10-10T12:27:24.801811Z",
     "start_time": "2019-10-10T12:27:24.796823Z"
    }
   },
   "outputs": [
    {
     "name": "stdout",
     "output_type": "stream",
     "text": [
      "<11113>를 <23>로 나누면 <4>가 나머지로 남습니다.\n"
     ]
    }
   ],
   "source": [
    "a = 11113\n",
    "b = 23\n",
    "ret = a%b\n",
    "print('<%d>를 <%d>로 나누면 <%d>가 나머지로 남습니다.' %(a, b, ret))"
   ]
  },
  {
   "cell_type": "markdown",
   "metadata": {},
   "source": [
    "# 몫과 나머지 구하기(divmod)"
   ]
  },
  {
   "cell_type": "code",
   "execution_count": 2,
   "metadata": {
    "ExecuteTime": {
     "end_time": "2019-10-10T12:28:00.053791Z",
     "start_time": "2019-10-10T12:28:00.046814Z"
    }
   },
   "outputs": [
    {
     "name": "stdout",
     "output_type": "stream",
     "text": [
      "<11113/23>는 몫이 <483>, 나머지가 <4>입니다.\n"
     ]
    }
   ],
   "source": [
    "a = 11113\n",
    "b = 23\n",
    "ret1, ret2 = divmod(a, b)\n",
    "print('<%d/%d>는 몫이 <%d>, 나머지가 <%d>입니다.' %(a, b, ret1, ret2))\n"
   ]
  },
  {
   "cell_type": "markdown",
   "metadata": {},
   "source": [
    "# 10진수를 16진수로 변환하기(hex)"
   ]
  },
  {
   "cell_type": "code",
   "execution_count": 3,
   "metadata": {
    "ExecuteTime": {
     "end_time": "2019-10-10T12:40:30.265212Z",
     "start_time": "2019-10-10T12:40:30.259227Z"
    }
   },
   "outputs": [
    {
     "name": "stdout",
     "output_type": "stream",
     "text": [
      "0x610x62\n",
      "0xc3\n"
     ]
    }
   ],
   "source": [
    "h1 = hex(97)       # h1은 문자열 ‘0x61’\n",
    "h2 = hex(98)       # h2는 문자열 ‘0x62’\n",
    "ret1 = h1 +h2      \n",
    "print(ret1)          # ‘0x610x62’ 가 출력됨\n",
    "a = int(h1, 16)\n",
    "b = int(h2, 16)\n",
    "ret2 = a + b       # ret2는 10진수 195가 됨\n",
    "print(hex(ret2))     # ‘0xc3’ 가 출력됨"
   ]
  },
  {
   "cell_type": "markdown",
   "metadata": {},
   "source": [
    "# 10진수를 2진수로 변환하기(bin)"
   ]
  },
  {
   "cell_type": "code",
   "execution_count": 4,
   "metadata": {
    "ExecuteTime": {
     "end_time": "2019-10-10T12:41:18.586037Z",
     "start_time": "2019-10-10T12:41:18.580052Z"
    }
   },
   "outputs": [
    {
     "name": "stdout",
     "output_type": "stream",
     "text": [
      "0b11000010b1100010\n",
      "0b11000011\n"
     ]
    }
   ],
   "source": [
    "b1 = bin(97)     # b1은 문자열 ‘0b11000001’\n",
    "b2 = bin(98)     # b2는 문자열 ‘0b11000010’\n",
    "ret1 = b1 + b2  \n",
    "print(ret1)       # ‘0b110000010b11000010’가 출력됨\n",
    "a = int(b1, 2)\n",
    "b = int(b2, 2)\n",
    "ret2 = a + b\n",
    "print(bin(ret2))   # ‘0b11000011’ 이 출력됨\n"
   ]
  },
  {
   "cell_type": "markdown",
   "metadata": {},
   "source": [
    "# 2진수, 16진수를 10진수로 변환하기 (int)"
   ]
  },
  {
   "cell_type": "code",
   "execution_count": 6,
   "metadata": {
    "ExecuteTime": {
     "end_time": "2019-10-10T12:42:00.605247Z",
     "start_time": "2019-10-10T12:42:00.598257Z"
    }
   },
   "outputs": [
    {
     "name": "stdout",
     "output_type": "stream",
     "text": [
      "240\n",
      "240\n",
      "240\n",
      "240\n",
      "240\n",
      "240\n"
     ]
    }
   ],
   "source": [
    "bnum = 0b11110000; bstr = '0b11110000'\n",
    "onum = 0o360; ostr = '0o360'\n",
    "hnum = 0xf0; hstr = '0xf0'\n",
    "b1 = int(bnum); b2 = int(bstr, 2)   # b2 = int(bstr, 0)로도 가능\n",
    "o1 = int(onum); o2 = int(ostr, 8)   # o2 = int(ostr, 0)로도 가능\n",
    "h1 = int(hnum); h2 = int(hstr, 16)  # h2 = int(hstr, 0)로도 가능\n",
    "print(b1); print(b2)\n",
    "print(o1); print(o2)\n",
    "print(h1); print(h2)\n"
   ]
  },
  {
   "cell_type": "markdown",
   "metadata": {},
   "source": [
    "# 절대값 구하기(abs)"
   ]
  },
  {
   "cell_type": "code",
   "execution_count": 7,
   "metadata": {
    "ExecuteTime": {
     "end_time": "2019-10-10T12:52:33.663616Z",
     "start_time": "2019-10-10T12:52:33.657643Z"
    }
   },
   "outputs": [
    {
     "name": "stdout",
     "output_type": "stream",
     "text": [
      "3\n",
      "5.72\n",
      "5.0\n"
     ]
    }
   ],
   "source": [
    "abs1 = abs(-3)        # 정수의 절대값\n",
    "abs2 = abs(-5.72)      # 실수의 절대값\n",
    "abs3 = abs(3+4j)      # 복소수의 절대값\n",
    "print(abs1)       # 3이 출력됨\n",
    "print(abs2)       # 5.72가 출력됨\n",
    "print(abs3)       # 5.0이 출력됨\n",
    "# 복소수의 크기는 루트 a제곱 + b제곱"
   ]
  },
  {
   "cell_type": "markdown",
   "metadata": {},
   "source": [
    "# 반올림수 구하기(round)"
   ]
  },
  {
   "cell_type": "code",
   "execution_count": 8,
   "metadata": {
    "ExecuteTime": {
     "end_time": "2019-10-10T12:53:43.473783Z",
     "start_time": "2019-10-10T12:53:43.468829Z"
    }
   },
   "outputs": [
    {
     "name": "stdout",
     "output_type": "stream",
     "text": [
      "1118\n",
      "17\n",
      "1120\n",
      "16.55\n"
     ]
    }
   ],
   "source": [
    "ret1 = round(1118)    # 소수점 첫째자리에서 반올림해줌\n",
    "ret2 = round(16.554)    # 소수점 첫째자리에서 반올림해줌\n",
    "ret3 = round(1118, -1)  # 1자리에서 반올림해줌\n",
    "ret4 = round(16.554, 2)  # 소수점 셋째자리에서 반올림해줌\n",
    "print(ret1)   # 1118\n",
    "print(ret2)   # 17\n",
    "print(ret3)   # 1120\n",
    "print(ret4)   # 16.55\n"
   ]
  },
  {
   "cell_type": "markdown",
   "metadata": {},
   "source": [
    "# 실수형 자료를 정수형 자료로 변환(int)"
   ]
  },
  {
   "cell_type": "code",
   "execution_count": 9,
   "metadata": {
    "ExecuteTime": {
     "end_time": "2019-10-10T12:55:40.459433Z",
     "start_time": "2019-10-10T12:55:40.453449Z"
    }
   },
   "outputs": [
    {
     "name": "stdout",
     "output_type": "stream",
     "text": [
      "-5\n",
      "17\n",
      "171\n"
     ]
    }
   ],
   "source": [
    "idata1 = int(-5.4)\n",
    "idata2 = int(1.78e1)\n",
    "idata3 = int(171.56)\n",
    "print(idata1)   # -5가 출력됨\n",
    "print(idata2)   # 17이 출력됨\n",
    "print(idata3)   # 171이 출력됨"
   ]
  },
  {
   "cell_type": "markdown",
   "metadata": {},
   "source": [
    "# 정수형 자료를 실수형 자료로 변환(float)"
   ]
  },
  {
   "cell_type": "code",
   "execution_count": 10,
   "metadata": {
    "ExecuteTime": {
     "end_time": "2019-10-10T12:56:16.842891Z",
     "start_time": "2019-10-10T12:56:16.837904Z"
    }
   },
   "outputs": [
    {
     "name": "stdout",
     "output_type": "stream",
     "text": [
      "10.0\n"
     ]
    }
   ],
   "source": [
    "fdata = float(10)\n",
    "print(fdata)   # 10.0으로 출력됨"
   ]
  },
  {
   "cell_type": "markdown",
   "metadata": {},
   "source": [
    "# 정수 리스트에서 소수만 걸러내기(filter)\n",
    "\n",
    "* 파이썬 내장함수 filter()는 리스트와 같이 반복 가능한 자료에서 특정 조건을 만족하는 값만을 편리하게 추출할 수 있는 방법을 제공한다.\n",
    "* filter()의 첫 번째 인사는 특정조건의 값을 추출하는 함수가 입려되며, 두 번째 인자는 리스트와 같은 반복 가능한 자료가 입력된다.\n"
   ]
  },
  {
   "cell_type": "code",
   "execution_count": 11,
   "metadata": {
    "ExecuteTime": {
     "end_time": "2019-10-10T12:56:28.455690Z",
     "start_time": "2019-10-10T12:56:28.447711Z"
    }
   },
   "outputs": [
    {
     "name": "stdout",
     "output_type": "stream",
     "text": [
      "[11113, 11119]\n"
     ]
    }
   ],
   "source": [
    "def getPrime(x):\n",
    "   for i in range(2, x-1):\n",
    "      if x%i == 0:\n",
    "         break\n",
    "   else:\n",
    "      return x\n",
    "\n",
    "listdata = [117, 119, 1113, 11113, 11119]\n",
    "ret = filter(getPrime, listdata)\n",
    "print(list(ret))            # [11113, 11119] 가 출력됨\n"
   ]
  },
  {
   "cell_type": "code",
   "execution_count": 16,
   "metadata": {
    "ExecuteTime": {
     "end_time": "2019-10-10T13:08:43.869104Z",
     "start_time": "2019-10-10T13:08:43.864115Z"
    }
   },
   "outputs": [
    {
     "name": "stdout",
     "output_type": "stream",
     "text": [
      "[2, 3, 5, 7, 11, 13, 17, 19, 23, 29, 31, 37, 41, 43, 47, 53, 59, 61, 67, 71, 73, 79, 83, 89, 97]\n"
     ]
    }
   ],
   "source": [
    "# 정수 n 이하의 모든 소수 구하기\n",
    "def getPrime(n):\n",
    "    ret = [2]\n",
    "    if n < 2:\n",
    "        return ret\n",
    "    \n",
    "    for i in range(3, n+1, 2):\n",
    "        for k in range(3, int(i/2), 2):\n",
    "            a = i % k\n",
    "            if a == 0:\n",
    "                break\n",
    "        else:\n",
    "            ret.append(i)\n",
    "        \n",
    "    return ret\n",
    "\n",
    "ret = getPrime(100)\n",
    "print(ret)"
   ]
  },
  {
   "cell_type": "markdown",
   "metadata": {},
   "source": [
    "# 최댓값, 최소값 구하기 (max, min)"
   ]
  },
  {
   "cell_type": "code",
   "execution_count": 1,
   "metadata": {
    "ExecuteTime": {
     "end_time": "2019-10-11T03:28:08.953435Z",
     "start_time": "2019-10-11T03:28:08.941466Z"
    }
   },
   "outputs": [
    {
     "name": "stdout",
     "output_type": "stream",
     "text": [
      "9.96\n",
      "0.93\n",
      "y\n",
      "A\n",
      "9\n",
      "a12\n"
     ]
    }
   ],
   "source": [
    "listdata = [9.96, 1.27, 5.07, 6.45, 8.38, 9.29, 4.93, 7.73, 3.71, 0.93]\n",
    "maxval = max(listdata)\n",
    "minval = min(listdata)\n",
    "print(maxval)     # 9.96이 출력됨\n",
    "print(minval)     # 0.93이 출력됨\n",
    "\n",
    "txt = 'Alotofthingsoccureachday'\n",
    "maxval = max(txt)\n",
    "minval = min(txt)\n",
    "print(maxval);     # ‘y’가 출력됨\n",
    "print(minval)     # ‘A’가 출력됨\n",
    "\n",
    "maxval = max(2+3, 2*3, 2**3, 3**2)\n",
    "minval = min('abz', 'a12')\n",
    "print(maxval)    # 9가 출력됨\n",
    "print(minval)     # ‘abz’가 출력됨\n"
   ]
  },
  {
   "cell_type": "markdown",
   "metadata": {},
   "source": [
    "# 1바이트에서 하위 4비트 추출하기\n",
    "\n",
    "* 컴퓨터는 모든 데이터와 연산을 내부적으로 비트로 표현되는 데이터로 처리한다.\n",
    "* 비트는 0와 1로 표현되는 2진수로 나타낼 수 있으며, 8비트를 1바이트로 부른다.\n",
    "* 1바이트는 일반적으로 컴퓨터가 처리하는 데이터의 최소 단위이다.\n",
    "\n",
    "        숫자 107을 1바이트 2진수로 표현하면 01101011이고, 16진수로 표현하면 6b가 됨\n",
    "        상위 4비트 - 0110 - 6(16진수) \n",
    "        하위 4비트 - 1011 - b(16진수)\n",
    "        숫자 107(16진수 0x6b)의 하위 4비트만 추출하려면 이 값을 0x0f와 비트단위 AND 연산을 수행하면 된다\n",
    "        비트단위 AND 연산자는 &\n",
    "\n"
   ]
  },
  {
   "cell_type": "code",
   "execution_count": 4,
   "metadata": {
    "ExecuteTime": {
     "end_time": "2019-10-11T03:45:38.088790Z",
     "start_time": "2019-10-11T03:45:38.083771Z"
    }
   },
   "outputs": [
    {
     "name": "stdout",
     "output_type": "stream",
     "text": [
      "0xb\n",
      "11\n"
     ]
    }
   ],
   "source": [
    "a = 107    # 16진수로 0x6b\n",
    "b = a & 0x0f\n",
    "print(hex(b))     # 11이 출력됨. 11은 16진수로 b임\n",
    "print(b)"
   ]
  },
  {
   "cell_type": "markdown",
   "metadata": {},
   "source": [
    "# 1바이트에서 상위 4비트 추출하기\n",
    "\n",
    "* 1바이트 데이터를 오른쪽으로 4만큼 시프트하고 0x0F와 & 연산을 수행하면 상위 4비트 값만 남는다\n"
   ]
  },
  {
   "cell_type": "code",
   "execution_count": 5,
   "metadata": {
    "ExecuteTime": {
     "end_time": "2019-10-11T03:46:01.619127Z",
     "start_time": "2019-10-11T03:46:01.614107Z"
    }
   },
   "outputs": [
    {
     "name": "stdout",
     "output_type": "stream",
     "text": [
      "6\n"
     ]
    }
   ],
   "source": [
    "a = 107\n",
    "b = (a>>4) & 0x0f\n",
    "print(b)    # 6이 출력됨\n"
   ]
  },
  {
   "cell_type": "markdown",
   "metadata": {},
   "source": [
    "# 문자열에서 특정 위치의 문자 얻기\n",
    "\n",
    "* 시퀀스 자료의 인덱싱을 이용"
   ]
  },
  {
   "cell_type": "code",
   "execution_count": 6,
   "metadata": {
    "ExecuteTime": {
     "end_time": "2019-10-11T03:46:23.750536Z",
     "start_time": "2019-10-11T03:46:23.745518Z"
    }
   },
   "outputs": [
    {
     "name": "stdout",
     "output_type": "stream",
     "text": [
      "e\n",
      "라\n"
     ]
    }
   ],
   "source": [
    "txt1 = 'A tale that was not right'\n",
    "txt2 = '이 또한 지나가리라.'\n",
    "print(txt1[5])      # ‘e’가 출력됨\n",
    "print(txt2[-2])     # ‘다’가 출력됨"
   ]
  },
  {
   "cell_type": "markdown",
   "metadata": {},
   "source": [
    "# 문자열에서 지정한 구간의 문자열 얻기\n",
    "\n",
    "* 시퀀스 자료의 슬라이싱을 이용"
   ]
  },
  {
   "cell_type": "code",
   "execution_count": 7,
   "metadata": {
    "ExecuteTime": {
     "end_time": "2019-10-11T03:47:03.663828Z",
     "start_time": "2019-10-11T03:47:03.658808Z"
    }
   },
   "outputs": [
    {
     "name": "stdout",
     "output_type": "stream",
     "text": [
      "ale \n",
      "A tale\n",
      "가리라.\n"
     ]
    }
   ],
   "source": [
    "txt1 = 'A tale that was not right'\n",
    "txt2 = '이 또한 지나가리라.'\n",
    "print(txt1[3:7])      # ‘ale ’이 출력됨\n",
    "print(txt1[:6])       # ‘A tale’ 이 출력됨\n",
    "print(txt2[-4:])      # ‘가리라.’가 출력됨"
   ]
  },
  {
   "cell_type": "markdown",
   "metadata": {},
   "source": [
    "# 문자열에서 홀수 번째 문자만 추출"
   ]
  },
  {
   "cell_type": "code",
   "execution_count": 8,
   "metadata": {
    "ExecuteTime": {
     "end_time": "2019-10-11T03:48:33.103786Z",
     "start_time": "2019-10-11T03:48:33.097802Z"
    }
   },
   "outputs": [
    {
     "name": "stdout",
     "output_type": "stream",
     "text": [
      "abcdefghijk\n"
     ]
    }
   ],
   "source": [
    "txt = 'aAbBcCdDeEfFgGhHiIjJkK'\n",
    "ret = txt[::2]\n",
    "print(ret)       # ‘abcdefghijk’ 가 출력됨\n"
   ]
  },
  {
   "cell_type": "markdown",
   "metadata": {},
   "source": [
    "# 문자열을 거꾸로 만들기"
   ]
  },
  {
   "cell_type": "code",
   "execution_count": 9,
   "metadata": {
    "ExecuteTime": {
     "end_time": "2019-10-11T03:48:44.007592Z",
     "start_time": "2019-10-11T03:48:44.002605Z"
    }
   },
   "outputs": [
    {
     "name": "stdout",
     "output_type": "stream",
     "text": [
      "kjihgfedcba\n"
     ]
    }
   ],
   "source": [
    "txt = 'abcdefghijk'\n",
    "ret = txt[::-1]\n",
    "print(ret)       # ‘kjihgfedcba’ 가 출력됨\n"
   ]
  },
  {
   "cell_type": "markdown",
   "metadata": {},
   "source": [
    "# 두 개의 문자열 합치기(+)"
   ]
  },
  {
   "cell_type": "code",
   "execution_count": 10,
   "metadata": {
    "ExecuteTime": {
     "end_time": "2019-10-11T03:50:20.058667Z",
     "start_time": "2019-10-11T03:48:54.911402Z"
    }
   },
   "outputs": [
    {
     "name": "stdout",
     "output_type": "stream",
     "text": [
      "저장할 파일 이름을 입력하세요: mystic\n",
      "당신이 저장한 파일은 <mystic.jpg> 입니다.\n"
     ]
    }
   ],
   "source": [
    "filename = input('저장할 파일 이름을 입력하세요: ')\n",
    "filename = filename + '.jpg'\n",
    "display_msg = '당신이 저장한 파일은 <' + filename + '> 입니다.'\n",
    "print(display_msg)\n"
   ]
  },
  {
   "cell_type": "markdown",
   "metadata": {},
   "source": [
    "# 문자열을 반복해서 새로운 문자열 만들기(*)"
   ]
  },
  {
   "cell_type": "code",
   "execution_count": 11,
   "metadata": {
    "ExecuteTime": {
     "end_time": "2019-10-11T03:50:31.178862Z",
     "start_time": "2019-10-11T03:50:31.173875Z"
    }
   },
   "outputs": [
    {
     "name": "stdout",
     "output_type": "stream",
     "text": [
      "여러분, 파이팅!파이팅!파이팅!~!\n"
     ]
    }
   ],
   "source": [
    "msg1 = '여러분'\n",
    "msg2 = '파이팅!'\n",
    "display_msg = msg1 + ', ' + msg2*3 + '~!'\n",
    "print(display_msg)\n"
   ]
  },
  {
   "cell_type": "markdown",
   "metadata": {},
   "source": [
    "# 문자열에서 특정 문자가 있는지 확인하기(in)"
   ]
  },
  {
   "cell_type": "code",
   "execution_count": 12,
   "metadata": {
    "ExecuteTime": {
     "end_time": "2019-10-11T03:51:03.656552Z",
     "start_time": "2019-10-11T03:50:57.060117Z"
    }
   },
   "outputs": [
    {
     "name": "stdout",
     "output_type": "stream",
     "text": [
      "임의의 문장을 입력하세요: sentence\n",
      "당신이 입력한 문장에는 a가 없습니다.\n"
     ]
    }
   ],
   "source": [
    "msg = input('임의의 문장을 입력하세요: ')\n",
    "if 'a' in msg:\n",
    "   print('당신이 입력한 문장에는 a가 있습니다.')\n",
    "else:\n",
    "   print('당신이 입력한 문장에는 a가 없습니다.')"
   ]
  },
  {
   "cell_type": "markdown",
   "metadata": {},
   "source": [
    "# 문자열에서 특정 문자열이 있는지 확인하기(in)"
   ]
  },
  {
   "cell_type": "code",
   "execution_count": 13,
   "metadata": {
    "ExecuteTime": {
     "end_time": "2019-10-11T03:51:45.558766Z",
     "start_time": "2019-10-11T03:51:19.565937Z"
    }
   },
   "outputs": [
    {
     "name": "stdout",
     "output_type": "stream",
     "text": [
      "임의의 문장을 입력하세요: He is a fireman.\n",
      "당신이 입력한 문장에는 is가 있습니다.\n"
     ]
    }
   ],
   "source": [
    "msg = input('임의의 문장을 입력하세요: ')\n",
    "if 'is' in msg:\n",
    "   print('당신이 입력한 문장에는 is가 있습니다.')\n",
    "else:\n",
    "   print('당신이 입력한 문장에는 is가 없습니다.')"
   ]
  },
  {
   "cell_type": "markdown",
   "metadata": {},
   "source": [
    "# 문자열 길이 구하기(len)"
   ]
  },
  {
   "cell_type": "code",
   "execution_count": 14,
   "metadata": {
    "ExecuteTime": {
     "end_time": "2019-10-11T03:52:19.391990Z",
     "start_time": "2019-10-11T03:52:00.056403Z"
    }
   },
   "outputs": [
    {
     "name": "stdout",
     "output_type": "stream",
     "text": [
      "임의의 문장을 입력하세요: sourcing and roasting\n",
      "당신이 입력한 문장의 길이는 <21> 입니다.\n"
     ]
    }
   ],
   "source": [
    "msg = input('임의의 문장을 입력하세요: ')\n",
    "msglen = len(msg)\n",
    "#msglen = len(msg.encode())\n",
    "print('당신이 입력한 문장의 길이는 <%d> 입니다.' %msglen)"
   ]
  },
  {
   "cell_type": "markdown",
   "metadata": {},
   "source": [
    "# 문자열이 알파벳인지 검사하기(isalpha)\n",
    "\n",
    "* str.isalpha()는 str의 모든 요소가 언어 문자로만 구성되어 있으면 True를 리턴\n",
    "* 숫자나 공백이 있으면 False"
   ]
  },
  {
   "cell_type": "code",
   "execution_count": 15,
   "metadata": {
    "ExecuteTime": {
     "end_time": "2019-10-11T03:52:32.832601Z",
     "start_time": "2019-10-11T03:52:32.826617Z"
    }
   },
   "outputs": [
    {
     "name": "stdout",
     "output_type": "stream",
     "text": [
      "True\n",
      "True\n",
      "False\n",
      "False\n"
     ]
    }
   ],
   "source": [
    "txt1 = 'A'\n",
    "txt2 = '안녕'\n",
    "txt3 = 'Warcraft Three'\n",
    "txt4 = '3PO'\n",
    "ret1 = txt1.isalpha()\n",
    "ret2 = txt2.isalpha()\n",
    "ret3 = txt3.isalpha()\n",
    "ret4 = txt4.isalpha()\n",
    "print(ret1)        # True가 출력됨\n",
    "print(ret2)        # True가 출력됨\n",
    "print(ret3)        # False가 출력됨\n",
    "print(ret4)        # False가 출력됨\n"
   ]
  },
  {
   "cell_type": "markdown",
   "metadata": {},
   "source": [
    "# 문자열이 숫자인지 검사하기(isdigit)\n",
    "\n",
    "* str.isdigit()는 str의 모든 요소가 숫자로만 구성되어 있으면 True"
   ]
  },
  {
   "cell_type": "code",
   "execution_count": 16,
   "metadata": {
    "ExecuteTime": {
     "end_time": "2019-10-11T03:59:31.289614Z",
     "start_time": "2019-10-11T03:59:31.282651Z"
    }
   },
   "outputs": [
    {
     "name": "stdout",
     "output_type": "stream",
     "text": [
      "False\n",
      "False\n",
      "True\n"
     ]
    }
   ],
   "source": [
    "txt1 = '010-1234-5678'\n",
    "txt2 = 'R2D2'\n",
    "txt3 = '1212'\n",
    "ret1 = txt1.isdigit()\n",
    "ret2 = txt2.isdigit()\n",
    "ret3 = txt3.isdigit()\n",
    "print(ret1)      # False가 출력됨\n",
    "print(ret2)      # False가 출력됨\n",
    "print(ret3)      # True가 출력됨\n"
   ]
  },
  {
   "cell_type": "markdown",
   "metadata": {},
   "source": [
    "# 문자열이 알파벳 또는 숫자인지 검사하기(isalnum)\n",
    "\n",
    "* str.isalnum()은 str의 모든 요소가 언어 문자 또는 숫자로만 구성되어 있으면 True"
   ]
  },
  {
   "cell_type": "code",
   "execution_count": 17,
   "metadata": {
    "ExecuteTime": {
     "end_time": "2019-10-11T04:00:22.999129Z",
     "start_time": "2019-10-11T04:00:22.994106Z"
    }
   },
   "outputs": [
    {
     "name": "stdout",
     "output_type": "stream",
     "text": [
      "False\n",
      "False\n",
      "True\n"
     ]
    }
   ],
   "source": [
    "txt1 = '안녕하세요?'\n",
    "txt2 = '1. Title-제목을 넣으세요'\n",
    "txt3 = '3피오R2D2'\n",
    "ret1 = txt1.isalnum()\n",
    "ret2 = txt2.isalnum ()\n",
    "ret3 = txt3.isalnum ()\n",
    "print(ret1)      # False가 출력됨 ?때문에\n",
    "print(ret2)      # False가 출력됨 .와 -\n",
    "print(ret3)      # True가 출력됨\n"
   ]
  },
  {
   "cell_type": "markdown",
   "metadata": {},
   "source": [
    "# 문자열에서 대소문자 변환하기(upper, lower)"
   ]
  },
  {
   "cell_type": "code",
   "execution_count": 18,
   "metadata": {
    "ExecuteTime": {
     "end_time": "2019-10-11T04:01:33.924451Z",
     "start_time": "2019-10-11T04:01:33.919465Z"
    }
   },
   "outputs": [
    {
     "name": "stdout",
     "output_type": "stream",
     "text": [
      "A LOT OF THINGS OCCUR EACH DAY.\n",
      "a lot of things occur each day.\n"
     ]
    }
   ],
   "source": [
    "txt = 'A lot of Things occur each day.'\n",
    "ret1 = txt.upper()\n",
    "ret2 = txt.lower()\n",
    "print(ret1)       # ‘A LOT OF THINGS OCCUR EACH DAY.’가 출력됨\n",
    "print(ret2)       # ‘a lot of things occur each day.’가 출력됨"
   ]
  },
  {
   "cell_type": "markdown",
   "metadata": {},
   "source": [
    "# 문자열에서 좌우 공백 제거하기(lstrip, rstrip, strip)"
   ]
  },
  {
   "cell_type": "code",
   "execution_count": 19,
   "metadata": {
    "ExecuteTime": {
     "end_time": "2019-10-11T04:01:51.447484Z",
     "start_time": "2019-10-11T04:01:51.440470Z"
    }
   },
   "outputs": [
    {
     "name": "stdout",
     "output_type": "stream",
     "text": [
      "<   양쪽에 공백이 있는 문자열입니다.   >\n",
      "<양쪽에 공백이 있는 문자열입니다.   >\n",
      "<   양쪽에 공백이 있는 문자열입니다.>\n",
      "<양쪽에 공백이 있는 문자열입니다.>\n"
     ]
    }
   ],
   "source": [
    "txt = '   양쪽에 공백이 있는 문자열입니다.   '\n",
    "ret1 = txt.lstrip()\n",
    "ret2 = txt.rstrip()\n",
    "ret3 = txt.strip()\n",
    "print('<'+txt+'>')\n",
    "print('<'+ret1+'>')\n",
    "print('<'+ret2+'>')\n",
    "print('<'+ret3+'>')"
   ]
  },
  {
   "cell_type": "markdown",
   "metadata": {},
   "source": [
    "# 문자열을 수치형 자료로 변환하기(int, float)"
   ]
  },
  {
   "cell_type": "code",
   "execution_count": 21,
   "metadata": {
    "ExecuteTime": {
     "end_time": "2019-10-11T04:02:38.382948Z",
     "start_time": "2019-10-11T04:02:36.444862Z"
    }
   },
   "outputs": [
    {
     "name": "stdout",
     "output_type": "stream",
     "text": [
      "숫자를 입력하세요: 23132.45\n",
      "당신이 입력한 숫자는 실수 <23132.450000>입니다.\n"
     ]
    }
   ],
   "source": [
    "numstr = input('숫자를 입력하세요: ')\n",
    "try:\n",
    "   num = int(numstr)\n",
    "   print('당신이 입력한 숫자는 정수 <%d>입니다.' %num)\n",
    "except:\n",
    "   try:\n",
    "      num = float(numstr)\n",
    "      print('당신이 입력한 숫자는 실수 <%f>입니다.' %num) \n",
    "   except:\n",
    "      print('+++ 숫자를 입력하세요~ +++')"
   ]
  },
  {
   "cell_type": "markdown",
   "metadata": {},
   "source": [
    "# 수치형 자료를 문자열로 변환하기(str)"
   ]
  },
  {
   "cell_type": "code",
   "execution_count": null,
   "metadata": {},
   "outputs": [],
   "source": []
  },
  {
   "cell_type": "markdown",
   "metadata": {},
   "source": [
    "# 문자열에 있는 문자(열) 개수 구하기(count)"
   ]
  },
  {
   "cell_type": "code",
   "execution_count": null,
   "metadata": {},
   "outputs": [],
   "source": []
  },
  {
   "cell_type": "markdown",
   "metadata": {},
   "source": [
    "# 문자열에서 특정 문자(열) 위치 찾기(find)"
   ]
  },
  {
   "cell_type": "code",
   "execution_count": null,
   "metadata": {},
   "outputs": [],
   "source": []
  },
  {
   "cell_type": "markdown",
   "metadata": {},
   "source": [
    "# 문자열을 특정문자(열)로 분리 하기(split)"
   ]
  },
  {
   "cell_type": "code",
   "execution_count": null,
   "metadata": {},
   "outputs": [],
   "source": []
  },
  {
   "cell_type": "markdown",
   "metadata": {},
   "source": [
    "# 문자열을 특정 문자(열)로 결합하기(join)"
   ]
  },
  {
   "cell_type": "code",
   "execution_count": null,
   "metadata": {},
   "outputs": [],
   "source": []
  },
  {
   "cell_type": "markdown",
   "metadata": {},
   "source": [
    "# 문자열에서 특정 문자(열)를 다른 문자(열)로 바꾸기(replace)"
   ]
  },
  {
   "cell_type": "code",
   "execution_count": null,
   "metadata": {},
   "outputs": [],
   "source": []
  },
  {
   "cell_type": "markdown",
   "metadata": {},
   "source": [
    "# 문자열을 바이트 객체로 바꾸기(encode)"
   ]
  },
  {
   "cell_type": "code",
   "execution_count": null,
   "metadata": {},
   "outputs": [],
   "source": []
  },
  {
   "cell_type": "markdown",
   "metadata": {},
   "source": [
    "# 바이트 객체를 문자열로 바꾸기(decode)"
   ]
  },
  {
   "cell_type": "code",
   "execution_count": null,
   "metadata": {},
   "outputs": [],
   "source": []
  },
  {
   "cell_type": "markdown",
   "metadata": {},
   "source": [
    "# 문자열을 정렬하기(sorted, join)"
   ]
  },
  {
   "cell_type": "code",
   "execution_count": null,
   "metadata": {},
   "outputs": [],
   "source": []
  },
  {
   "cell_type": "markdown",
   "metadata": {},
   "source": [
    "# 순차적인 정수 리스트 만들기(range)"
   ]
  },
  {
   "cell_type": "code",
   "execution_count": null,
   "metadata": {},
   "outputs": [],
   "source": []
  },
  {
   "cell_type": "markdown",
   "metadata": {},
   "source": [
    "# 리스트에서 특정 위치의 요소 얻기"
   ]
  },
  {
   "cell_type": "code",
   "execution_count": null,
   "metadata": {},
   "outputs": [],
   "source": []
  }
 ],
 "metadata": {
  "hide_input": false,
  "kernelspec": {
   "display_name": "Python 3",
   "language": "python",
   "name": "python3"
  },
  "language_info": {
   "codemirror_mode": {
    "name": "ipython",
    "version": 3
   },
   "file_extension": ".py",
   "mimetype": "text/x-python",
   "name": "python",
   "nbconvert_exporter": "python",
   "pygments_lexer": "ipython3",
   "version": "3.6.9"
  },
  "toc": {
   "base_numbering": 1,
   "nav_menu": {},
   "number_sections": true,
   "sideBar": true,
   "skip_h1_title": false,
   "title_cell": "Table of Contents",
   "title_sidebar": "Contents",
   "toc_cell": false,
   "toc_position": {},
   "toc_section_display": true,
   "toc_window_display": false
  },
  "varInspector": {
   "cols": {
    "lenName": 16,
    "lenType": 16,
    "lenVar": 40
   },
   "kernels_config": {
    "python": {
     "delete_cmd_postfix": "",
     "delete_cmd_prefix": "del ",
     "library": "var_list.py",
     "varRefreshCmd": "print(var_dic_list())"
    },
    "r": {
     "delete_cmd_postfix": ") ",
     "delete_cmd_prefix": "rm(",
     "library": "var_list.r",
     "varRefreshCmd": "cat(var_dic_list()) "
    }
   },
   "types_to_exclude": [
    "module",
    "function",
    "builtin_function_or_method",
    "instance",
    "_Feature"
   ],
   "window_display": false
  }
 },
 "nbformat": 4,
 "nbformat_minor": 2
}
