{
 "cells": [
  {
   "cell_type": "markdown",
   "metadata": {},
   "source": [
    "# 정수형 자료\n",
    "\n",
    "* 파이썬3에서 2진수는 0b, 8진수는 0o, 16진수는 0x로 시작\n",
    "* 파이썬의 정수형 상수의 최소값, 최대값은 존재하지 않고, 메모리가 허용하는 범위에서 지원 가능한 수를 사용할 수 있음"
   ]
  },
  {
   "cell_type": "code",
   "execution_count": 1,
   "metadata": {
    "ExecuteTime": {
     "end_time": "2019-10-05T15:27:06.484301Z",
     "start_time": "2019-10-05T15:27:06.478348Z"
    }
   },
   "outputs": [
    {
     "name": "stdout",
     "output_type": "stream",
     "text": [
      "10\n",
      "2\n",
      "8\n",
      "16\n",
      "1234567890123456789\n"
     ]
    }
   ],
   "source": [
    "int_data = 10\n",
    "bin_data = 0b10\n",
    "oct_data = 0o10\n",
    "hex_data = 0x10\n",
    "long_data = 1234567890123456789\n",
    "print(int_data)\n",
    "print(bin_data)\n",
    "print(oct_data)\n",
    "print(hex_data)\n",
    "print(long_data)\n"
   ]
  },
  {
   "cell_type": "markdown",
   "metadata": {},
   "source": [
    "# 실수형 자료"
   ]
  },
  {
   "cell_type": "code",
   "execution_count": 2,
   "metadata": {
    "ExecuteTime": {
     "end_time": "2019-10-05T15:28:01.951932Z",
     "start_time": "2019-10-05T15:28:01.945921Z"
    }
   },
   "outputs": [
    {
     "name": "stdout",
     "output_type": "stream",
     "text": [
      "1.0\n",
      "3.14\n",
      "1560.0\n",
      "-7e-05\n"
     ]
    }
   ],
   "source": [
    "f1 = 1.0\n",
    "f2 = 3.14\n",
    "f3 = 1.56e3\n",
    "f4 = -0.7e-4\n",
    "print(f1)\n",
    "print(f2)\n",
    "print(f3)\n",
    "print(f4)"
   ]
  },
  {
   "cell_type": "markdown",
   "metadata": {},
   "source": [
    "* 실수형 자료와 정수형 자료를 연산 => 실수형 자료\n",
    "* 나눗셈의 결과는 자료형과 상관없이 실수형 자료"
   ]
  },
  {
   "cell_type": "code",
   "execution_count": 3,
   "metadata": {
    "ExecuteTime": {
     "end_time": "2019-10-05T15:30:07.439380Z",
     "start_time": "2019-10-05T15:30:07.434394Z"
    }
   },
   "outputs": [
    {
     "name": "stdout",
     "output_type": "stream",
     "text": [
      "6.0\n",
      "8.0\n",
      "0.5\n",
      "2.0\n"
     ]
    }
   ],
   "source": [
    "a = 2\n",
    "b = 4.0\n",
    "print(a+b)\n",
    "print(a*b)\n",
    "print(a/b)\n",
    "print(4/2)"
   ]
  },
  {
   "cell_type": "markdown",
   "metadata": {},
   "source": [
    "# 복소수형 자료\n",
    "\n",
    "* 복소수형 상수 = 실수부 + 허수부\n",
    "* 수학에서는 허수부는 i, 파이썬에서는 j"
   ]
  },
  {
   "cell_type": "code",
   "execution_count": 5,
   "metadata": {
    "ExecuteTime": {
     "end_time": "2019-10-05T15:31:43.700021Z",
     "start_time": "2019-10-05T15:31:43.695066Z"
    }
   },
   "outputs": [
    {
     "name": "stdout",
     "output_type": "stream",
     "text": [
      "1.0\n",
      "7.0\n",
      "(2+3j)\n"
     ]
    }
   ],
   "source": [
    "c1 = 1+7j\n",
    "print(c1.real)\n",
    "print(c1.imag)\n",
    "c2 = complex(2, 3)\n",
    "print(c2)"
   ]
  },
  {
   "cell_type": "markdown",
   "metadata": {},
   "source": [
    "# 대입 연산자 (=)\n",
    "\n",
    "* =는 왼쪽의 변수에 오른쪽 값을 대입한다는 의미\n",
    "* 같다는 등호 연산자는 =="
   ]
  },
  {
   "cell_type": "code",
   "execution_count": 6,
   "metadata": {
    "ExecuteTime": {
     "end_time": "2019-10-05T15:33:24.771721Z",
     "start_time": "2019-10-05T15:33:24.765732Z"
    }
   },
   "outputs": [
    {
     "name": "stdout",
     "output_type": "stream",
     "text": [
      "a와 b를 더한 값은 3 입니다\n"
     ]
    }
   ],
   "source": [
    "a = 1\n",
    "b = 2\n",
    "ret = a+b\n",
    "print('a와 b를 더한 값은 ', end='')\n",
    "print(ret, end='')\n",
    "print(' 입니다')"
   ]
  },
  {
   "cell_type": "markdown",
   "metadata": {},
   "source": [
    "# 사칙 연산자 (+,-,\\*,/,**)\n",
    "\n",
    "* 거듭제곱은 사칙 연산보다 연산 순위가 우선함"
   ]
  },
  {
   "cell_type": "code",
   "execution_count": 10,
   "metadata": {
    "ExecuteTime": {
     "end_time": "2019-10-05T15:36:29.127626Z",
     "start_time": "2019-10-05T15:36:29.118651Z"
    }
   },
   "outputs": [
    {
     "name": "stdout",
     "output_type": "stream",
     "text": [
      "6\n",
      "-2\n",
      "8\n",
      "0.5\n",
      "16\n",
      "6.0\n",
      "-12\n",
      "32\n"
     ]
    }
   ],
   "source": [
    "a = 2\n",
    "b = 4\n",
    "ret1 = a+b\n",
    "ret2 = a - b\n",
    "ret3 = a*b         \n",
    "ret4 = a/b         \n",
    "ret5 = a**b        \n",
    "ret6 = a+a*b/a     \n",
    "ret7 = (a+b)*(a-b)  \n",
    "ret8 = a*b**a   \n",
    "print(ret1)\n",
    "print(ret2)\n",
    "print(ret3)\n",
    "print(ret4)\n",
    "print(ret5)\n",
    "print(ret6)\n",
    "print(ret7)\n",
    "print(ret8)"
   ]
  },
  {
   "cell_type": "markdown",
   "metadata": {},
   "source": [
    "# 연산자 축약 (+=, -=, *=, /=)"
   ]
  },
  {
   "cell_type": "code",
   "execution_count": 11,
   "metadata": {
    "ExecuteTime": {
     "end_time": "2019-10-05T15:38:47.164340Z",
     "start_time": "2019-10-05T15:38:47.159353Z"
    }
   },
   "outputs": [
    {
     "name": "stdout",
     "output_type": "stream",
     "text": [
      "1\n",
      "-4\n",
      "-8\n",
      "-2.0\n"
     ]
    }
   ],
   "source": [
    "a = 0\n",
    "a += 1\n",
    "print(a)\n",
    "a -= 5\n",
    "print(a)\n",
    "a *= 2\n",
    "print(a)\n",
    "a /= 4\n",
    "print(a)"
   ]
  },
  {
   "cell_type": "markdown",
   "metadata": {},
   "source": [
    "# True와 False\n",
    "\n",
    "* True는 1, False는 0의 값을 가짐"
   ]
  },
  {
   "cell_type": "code",
   "execution_count": 12,
   "metadata": {
    "ExecuteTime": {
     "end_time": "2019-10-05T15:39:54.161068Z",
     "start_time": "2019-10-05T15:39:54.156082Z"
    }
   },
   "outputs": [
    {
     "name": "stdout",
     "output_type": "stream",
     "text": [
      "True\n",
      "False\n"
     ]
    }
   ],
   "source": [
    "a = True\n",
    "b = False\n",
    "print(a == 1)       # True가 출력됨\n",
    "print(b != 0)        # False가 출력됨"
   ]
  },
  {
   "cell_type": "markdown",
   "metadata": {},
   "source": [
    "# 관계 연산자 (==, !=, <, <=, >, >=)"
   ]
  },
  {
   "cell_type": "code",
   "execution_count": 13,
   "metadata": {
    "ExecuteTime": {
     "end_time": "2019-10-05T15:43:16.611543Z",
     "start_time": "2019-10-05T15:43:16.602554Z"
    }
   },
   "outputs": [
    {
     "name": "stdout",
     "output_type": "stream",
     "text": [
      "False\n",
      "True\n",
      "False\n",
      "True\n",
      "True\n"
     ]
    }
   ],
   "source": [
    "x = 1; y = 2\n",
    "str1 = 'abc'; str2 = 'python'\n",
    "print(x == y)  # False가 출력됨\n",
    "print(x != y)   # True가 출력됨\n",
    "print(str1 == str2)   # False가 출력됨\n",
    "print(str2 == 'python')   # True가 출력됨\n",
    "print(str1 < str2)        # True가 출력됨"
   ]
  },
  {
   "cell_type": "markdown",
   "metadata": {},
   "source": [
    "# 논리 연산자 (and, or, not)\n",
    "\n",
    "* A and B - A와 B가 모두 참이면 참\n",
    "* A or B - A, B 중 하나 이상이 참이면 참\n",
    "* not A - A 논리값의 반대"
   ]
  },
  {
   "cell_type": "code",
   "execution_count": 14,
   "metadata": {
    "ExecuteTime": {
     "end_time": "2019-10-05T15:45:25.914867Z",
     "start_time": "2019-10-05T15:45:25.907907Z"
    }
   },
   "outputs": [
    {
     "name": "stdout",
     "output_type": "stream",
     "text": [
      "False\n",
      "True\n",
      "True\n",
      "False\n",
      "False\n",
      "True\n"
     ]
    }
   ],
   "source": [
    "bool1 = True; bool2 = False; bool3 = True; bool4 = False\n",
    "print(bool1 and bool2)    # False가 출력됨\n",
    "print(bool1 and bool3)    # True가 출력됨\n",
    "print(bool2 or bool3)     # True가 출력됨\n",
    "print(bool2 or bool4)     # False가 출력됨\n",
    "print(not bool1)          # False가 출력됨\n",
    "print(not bool2)          # True가 출력됨"
   ]
  },
  {
   "cell_type": "markdown",
   "metadata": {},
   "source": [
    "# 비트 연산자 (&, |, ~, ^, >>, <<)\n",
    "\n",
    "* 0과 1로 구성된 비트간 연산을 수행하는 비트 연산자\n",
    "* 8비트 - 1바이트\n",
    "* 1바이트로 표현가능한 수는 2의 8제곱 = 256가지\n",
    "\n",
    "        * A & B - A와 B의 비트간 and 연산을 수행\n",
    "        * A | B - A와 B의 비트간 or 연산을 수행\n",
    "        * A ^ B - A와 B의 비트간 배타적 논리합 xor 연산을 수행함\n",
    "        * ~A - A의 비트를 반전시킴, 즉 A의 1의 보수를 만듦\n",
    "        * A >> n - A의 모든 비트를 n만큼 오른쪽으로 시프트 시킴\n",
    "        * A << n - A의 모든 비트를 n만큼 왼쪽으로 시프트 시킴"
   ]
  },
  {
   "cell_type": "code",
   "execution_count": 15,
   "metadata": {
    "ExecuteTime": {
     "end_time": "2019-10-05T15:47:47.441029Z",
     "start_time": "2019-10-05T15:47:47.433056Z"
    }
   },
   "outputs": [
    {
     "name": "stdout",
     "output_type": "stream",
     "text": [
      "0x60\n",
      "0x63\n",
      "0x3\n",
      "0x30\n",
      "0x184\n"
     ]
    }
   ],
   "source": [
    "bit1 = 0x61\n",
    "bit2 = 0x62\n",
    "print(hex(bit1 & bit2))    # 0x60이 출력됨\n",
    "print(hex(bit1 | bit2))     # 0x63이 출력됨\n",
    "print(hex(bit1 ^ bit2))     # 0x3 이 출력됨\n",
    "print(hex(bit1 >> 1))      # 0x30이 출력됨\n",
    "print(hex(bit1 << 2))      # 0x184가 출력됨"
   ]
  },
  {
   "cell_type": "markdown",
   "metadata": {},
   "source": [
    "# 시퀀스 자료형\n",
    "\n",
    "* 시퀀스 자료형은 어떤 객체가 순서를 가지고 나열되어 있는 것"
   ]
  },
  {
   "cell_type": "code",
   "execution_count": 17,
   "metadata": {
    "ExecuteTime": {
     "end_time": "2019-10-05T15:56:56.128970Z",
     "start_time": "2019-10-05T15:56:56.124018Z"
    }
   },
   "outputs": [],
   "source": [
    "str_data = \"acdefg\" #문자열은 시퀀스 자료형\n",
    "list_data = [1,2,[4,5],\"hello!\"] #리스트는 시퀀스 자료형\n",
    "tuple_data = (10, 20, 30) #튜플은 시퀀스 자료형"
   ]
  },
  {
   "cell_type": "code",
   "execution_count": 18,
   "metadata": {
    "ExecuteTime": {
     "end_time": "2019-10-05T15:56:56.345534Z",
     "start_time": "2019-10-05T15:56:56.340541Z"
    }
   },
   "outputs": [
    {
     "name": "stdout",
     "output_type": "stream",
     "text": [
      "a\n",
      "c\n",
      "d\n",
      "e\n",
      "f\n",
      "g\n"
     ]
    }
   ],
   "source": [
    "for c in str_data:\n",
    "    print(c)"
   ]
  },
  {
   "cell_type": "code",
   "execution_count": 19,
   "metadata": {
    "ExecuteTime": {
     "end_time": "2019-10-05T15:56:56.544773Z",
     "start_time": "2019-10-05T15:56:56.540788Z"
    }
   },
   "outputs": [
    {
     "name": "stdout",
     "output_type": "stream",
     "text": [
      "1\n",
      "2\n",
      "[4, 5]\n",
      "hello!\n"
     ]
    }
   ],
   "source": [
    "for c in list_data:\n",
    "    print(c)"
   ]
  },
  {
   "cell_type": "code",
   "execution_count": 20,
   "metadata": {
    "ExecuteTime": {
     "end_time": "2019-10-05T15:56:57.059375Z",
     "start_time": "2019-10-05T15:56:57.055407Z"
    }
   },
   "outputs": [
    {
     "name": "stdout",
     "output_type": "stream",
     "text": [
      "10\n",
      "20\n",
      "30\n"
     ]
    }
   ],
   "source": [
    "for c in tuple_data:\n",
    "    print(c)"
   ]
  },
  {
   "cell_type": "markdown",
   "metadata": {},
   "source": [
    "# 시퀀스 자료 인덱싱"
   ]
  },
  {
   "cell_type": "code",
   "execution_count": 23,
   "metadata": {
    "ExecuteTime": {
     "end_time": "2019-10-05T16:01:45.930694Z",
     "start_time": "2019-10-05T16:01:45.924733Z"
    }
   },
   "outputs": [
    {
     "name": "stdout",
     "output_type": "stream",
     "text": [
      "i\n",
      "!\n",
      "1\n",
      "[1, 2, 3]\n",
      "3\n"
     ]
    }
   ],
   "source": [
    "strdata = 'Time is money!!'\n",
    "listdata = [1, 2, [1, 2, 3]]\n",
    "print(strdata[5])     # ‘i'가 출력됨\n",
    "print(strdata[-2])    # ‘!’가 출력됨\n",
    "print(listdata[0])     # 1이 출력됨\n",
    "print(listdata[-1])    # [1, 2, 3]이 출력됨\n",
    "print(listdata[2][-1])  # 3이 출력됨"
   ]
  },
  {
   "cell_type": "markdown",
   "metadata": {},
   "source": [
    "# 시퀀스 자료 슬라이싱\n",
    "\n",
    "        [시작 인덱스:끝 인덱스:스텝]\n",
    "        시작 인덱스 <= [시작인덱스:끝 인덱스] < 끝 인덱스"
   ]
  },
  {
   "cell_type": "code",
   "execution_count": 22,
   "metadata": {
    "ExecuteTime": {
     "end_time": "2019-10-05T16:01:32.764675Z",
     "start_time": "2019-10-05T16:01:32.758721Z"
    }
   },
   "outputs": [
    {
     "name": "stdout",
     "output_type": "stream",
     "text": [
      "ime \n",
      "Time is\n",
      "oney!!\n",
      "Time is mone\n",
      "y!!\n",
      "Time is money!!\n",
      "Tm smny!\n"
     ]
    }
   ],
   "source": [
    "strdata = 'Time is money!!'\n",
    "print(strdata[1:5])   # ‘ime’가 출력됨\n",
    "print(strdata[:7])    # ‘Time is’가 출력됨\n",
    "print(strdata[9:])    # ‘oney!!’가 출력됨\n",
    "print(strdata[:-3])   # ‘Time is mone’이 출력됨\n",
    "print(strdata[-3:])   # ‘y!!’이 출력됨\n",
    "print(strdata[:])    # ‘Time is money!!’가 출력됨\n",
    "print(strdata[::2])  # ‘Tm smny!’가 출력됨"
   ]
  },
  {
   "cell_type": "markdown",
   "metadata": {},
   "source": [
    "# 시퀀스 자료 연결 (+)"
   ]
  },
  {
   "cell_type": "code",
   "execution_count": 24,
   "metadata": {
    "ExecuteTime": {
     "end_time": "2019-10-05T16:02:37.731458Z",
     "start_time": "2019-10-05T16:02:37.725480Z"
    }
   },
   "outputs": [
    {
     "name": "stdout",
     "output_type": "stream",
     "text": [
      "I love Python\n",
      "I love you\n",
      "[1, 2, 3, 4, 5, 6]\n"
     ]
    }
   ],
   "source": [
    "strdata1 = 'I love '; strdata2 = 'Python'; strdata3 = 'you'\n",
    "listdata1 = [1, 2, 3]; listdata2 = [4, 5, 6]\n",
    "print(strdata1 + strdata2)     # ‘I love Python’이 출력됨\n",
    "print(strdata1 + strdata3)     # ‘I love you’가 출력됨\n",
    "print(listdata1 + listdata2)    # [1, 2, 3, 4, 5, 6]이 출력됨"
   ]
  },
  {
   "cell_type": "markdown",
   "metadata": {},
   "source": [
    "# 시퀀스 자료 반복 (*)"
   ]
  },
  {
   "cell_type": "code",
   "execution_count": 25,
   "metadata": {
    "ExecuteTime": {
     "end_time": "2019-10-05T16:03:45.584769Z",
     "start_time": "2019-10-05T16:03:45.580810Z"
    }
   },
   "outputs": [
    {
     "name": "stdout",
     "output_type": "stream",
     "text": [
      "빅뱅이 부르는 뱅~뱅~뱅~\n"
     ]
    }
   ],
   "source": [
    "artist = '빅뱅'\n",
    "sing = '뱅~'\n",
    "dispdata = artist + '이 부르는 ' + sing*3\n",
    "print(dispdata)  # ‘빅뱅이 부르는 뱅~뱅~뱅~’이 출력됨"
   ]
  },
  {
   "cell_type": "markdown",
   "metadata": {},
   "source": [
    "# 시퀀스 자료 크기 (len)"
   ]
  },
  {
   "cell_type": "code",
   "execution_count": 26,
   "metadata": {
    "ExecuteTime": {
     "end_time": "2019-10-05T16:04:04.584223Z",
     "start_time": "2019-10-05T16:04:04.578238Z"
    }
   },
   "outputs": [
    {
     "name": "stdout",
     "output_type": "stream",
     "text": [
      "13\n",
      "13\n",
      "5\n",
      "13\n"
     ]
    }
   ],
   "source": [
    "strdata1 = 'I love python'\n",
    "strdata2 = '나는 파이썬을 사랑합니다'\n",
    "listdata = ['a', 'b', 'c', strdata1, strdata2]\n",
    "print(len(strdata1))    # 13이 출력됨\n",
    "print(len(strdata2))    # 13이 출력됨\n",
    "print(len(listdata))     # 5가 출력됨\n",
    "print(len(listdata[3]))  # 13이 출력됨"
   ]
  },
  {
   "cell_type": "markdown",
   "metadata": {},
   "source": [
    "# 멤버체크\n",
    "\n",
    "        <값> in <자료>"
   ]
  },
  {
   "cell_type": "code",
   "execution_count": 27,
   "metadata": {
    "ExecuteTime": {
     "end_time": "2019-10-05T16:04:59.741996Z",
     "start_time": "2019-10-05T16:04:59.736044Z"
    }
   },
   "outputs": [
    {
     "name": "stdout",
     "output_type": "stream",
     "text": [
      "False\n",
      "True\n",
      "True\n",
      "False\n"
     ]
    }
   ],
   "source": [
    "listdata =[1, 2, 3, 4]\n",
    "ret1 = 5 in listdata    # False\n",
    "ret2 = 4 in listdata    # True\n",
    "print(ret1); print(ret2)\n",
    "strdata = 'abcde'\n",
    "ret3 = 'c' in strdata    # True\n",
    "ret4 = '1' in strdata    # False\n",
    "print(ret3); print(ret4)"
   ]
  },
  {
   "cell_type": "markdown",
   "metadata": {},
   "source": [
    "# 문자열\n",
    "\n",
    "* 문자열을 나타내는 방법은 ' ',\" \",\"\"\" \"\"\""
   ]
  },
  {
   "cell_type": "code",
   "execution_count": 31,
   "metadata": {
    "ExecuteTime": {
     "end_time": "2019-10-05T16:08:31.961963Z",
     "start_time": "2019-10-05T16:08:31.955978Z"
    }
   },
   "outputs": [
    {
     "name": "stdout",
     "output_type": "stream",
     "text": [
      "나는 파이썬 프로그래머이다\n",
      "You are a programmer\n",
      "I love python. You love python too!\n",
      "My son's name is John\n",
      "문자열 \"abd\"의 길이는 3입니다.\n"
     ]
    }
   ],
   "source": [
    "str_data1 = \"나는 파이썬 프로그래머이다\"\n",
    "str_data2 = \"You are a programmer\"\n",
    "str_data3 = \"\"\"I love python. You love python too!\"\"\"\n",
    "str_data4 = \"My son's name is John\"\n",
    "str_data5 = '문자열 \"abd\"의 길이는 3입니다.'\n",
    "print(str_data1)\n",
    "print(str_data2)\n",
    "print(str_data3)\n",
    "print(str_data4)\n",
    "print(str_data5)"
   ]
  },
  {
   "cell_type": "markdown",
   "metadata": {},
   "source": [
    "# 문자열 포맷팅\n",
    "\n",
    "* %s - 문자열에 대응\n",
    "* %c - 문자나 기호 한 개에 대응\n",
    "* %f - 실수에 대응\n",
    "* %d - 정수에 대응\n",
    "* %% - '%'라는 기호 자체를 표시함"
   ]
  },
  {
   "cell_type": "code",
   "execution_count": 32,
   "metadata": {
    "ExecuteTime": {
     "end_time": "2019-10-05T16:11:33.538749Z",
     "start_time": "2019-10-05T16:11:33.531768Z"
    }
   },
   "outputs": [
    {
     "name": "stdout",
     "output_type": "stream",
     "text": [
      "나는 자바보다 파이썬에 더 익숙합니다.\n",
      "파이썬은 자바보다 5배 더 쉽습니다.\n",
      "5 + 10 = 15\n",
      "작년 세계 경제 성장률은 전년에 비해 5% 포인트 증가했다.\n"
     ]
    }
   ],
   "source": [
    "txt1 = '자바';txt2='파이썬'\n",
    "num1= 5; num2=10\n",
    "print('나는 %s보다 %s에 더 익숙합니다.' %(txt1, txt2))\n",
    "print('%s은 %s보다 %d배 더 쉽습니다.' %(txt2, txt1, num1))\n",
    "print('%d + %d = %d' %(num1, num2, num1+num2))\n",
    "print('작년 세계 경제 성장률은 전년에 비해 %d%% 포인트 증가했다.' %num1)"
   ]
  },
  {
   "cell_type": "code",
   "execution_count": 46,
   "metadata": {
    "ExecuteTime": {
     "end_time": "2019-10-05T16:52:19.558122Z",
     "start_time": "2019-10-05T16:52:14.473439Z"
    }
   },
   "outputs": [
    {
     "name": "stdout",
     "output_type": "stream",
     "text": [
      "진행률 0%                                                                                                                                                                                      "
     ]
    }
   ],
   "source": [
    "from time import sleep\n",
    "\n",
    "for i in range(100):\n",
    "   msg = '\\r진행률 %d%%' %(100-i-1)\n",
    "   print(' '*len(msg), end='')\n",
    "   print(msg, end='')\n",
    "   sleep(0.05)"
   ]
  },
  {
   "cell_type": "code",
   "execution_count": 47,
   "metadata": {
    "ExecuteTime": {
     "end_time": "2019-10-05T16:52:25.135329Z",
     "start_time": "2019-10-05T16:52:20.073830Z"
    }
   },
   "outputs": [
    {
     "name": "stdout",
     "output_type": "stream",
     "text": [
      "진행률 0%%\r"
     ]
    }
   ],
   "source": [
    "import time\n",
    "for i in range(100):\n",
    "    print(\"진행률 {}%\".format(100-i-1), end='\\r') #캐리지 리턴\n",
    "    time.sleep(0.05)"
   ]
  },
  {
   "cell_type": "markdown",
   "metadata": {},
   "source": [
    "# 이스케이프 문자\n",
    "\n",
    "* 이스케이프 문자는 '\\'로 시작\n",
    "* 키보드로 입력하기 어려운 기호 등을 나타내기 위해 사용\n",
    "\n",
    "        * \\n - 줄바꾸기\n",
    "        * \\t - 탭\n",
    "        * \\enter - 줄 계속\n",
    "        * \\\\ - '\\'기호 자체 표시\n",
    "        * \\' 또는 \\\" - '기호 또는 ''기호 자체 "
   ]
  },
  {
   "cell_type": "code",
   "execution_count": 48,
   "metadata": {
    "ExecuteTime": {
     "end_time": "2019-10-05T16:58:42.582740Z",
     "start_time": "2019-10-05T16:58:42.577781Z"
    }
   },
   "outputs": [
    {
     "name": "stdout",
     "output_type": "stream",
     "text": [
      "나는 파이썬을 사랑합니다.\n",
      "파이썬은 자바보다 훨씬 쉽습니다.\n",
      "Name: John Smith\tSex: Male\tAge: 22\n",
      "이 문장은 화면폭에 비해 너무 길어 보기가 힘듭니다. 그래서 \\Enter키를 이용해 문장을 다음줄과 연속되도록 했습니다.\n",
      "작은따옴표(')와 큰 따옴표(\")는 문자열을 정의할 때 사용합니다.\n"
     ]
    }
   ],
   "source": [
    "print('나는 파이썬을 사랑합니다.\\n파이썬은 자바보다 훨씬 쉽습니다.')\n",
    "print('Name: John Smith\\tSex: Male\\tAge: 22')\n",
    "print('이 문장은 화면폭에 비해 너무 길어 보기가 힘듭니다. \\\n",
    "그래서 \\\\Enter키를 이용해 문장을 다음줄과 연속되도록 했습니다.')\n",
    "print('작은따옴표(\\')와 큰 따옴표(\")는 문자열을 정의할 때 사용합니다.')"
   ]
  },
  {
   "cell_type": "markdown",
   "metadata": {},
   "source": [
    "# 리스트 ([])"
   ]
  },
  {
   "cell_type": "code",
   "execution_count": 49,
   "metadata": {
    "ExecuteTime": {
     "end_time": "2019-10-05T17:02:07.067485Z",
     "start_time": "2019-10-05T17:02:07.060501Z"
    }
   },
   "outputs": [
    {
     "name": "stdout",
     "output_type": "stream",
     "text": [
      "[6, 2, 3, 4, 5]\n",
      "안녕하세요\n"
     ]
    }
   ],
   "source": [
    "list1 = [1, 2, 3, 4, 5]\n",
    "list2 = ['a', 'b', 'c']\n",
    "list3 = [1, 'a', 'abc', [1, 2, 3, 4, 5], ['a', 'b', 'c']]\n",
    "list1[0] = 6\n",
    "print(list1)      # [6, 2, 3, 4, 5]가 출력됨\n",
    "def myfunc():\n",
    "   print('안녕하세요')\n",
    "list4 = [1, 2, myfunc]\n",
    "list4[2]()       # ‘안녕하세요’ 가 출력됨\n"
   ]
  },
  {
   "cell_type": "markdown",
   "metadata": {},
   "source": [
    "# 튜플 (())"
   ]
  },
  {
   "cell_type": "code",
   "execution_count": 52,
   "metadata": {
    "ExecuteTime": {
     "end_time": "2019-10-05T17:10:54.868623Z",
     "start_time": "2019-10-05T17:10:54.858629Z"
    }
   },
   "outputs": [
    {
     "name": "stdout",
     "output_type": "stream",
     "text": [
      "'tuple' object does not support item assignment\n",
      "안녕하세요\n"
     ]
    }
   ],
   "source": [
    "tuple1 = (1, 2, 3, 4, 5)\n",
    "tuple2 = ('a', 'b', 'c')\n",
    "tuple3 = (1, 'a', 'abc', [1, 2, 3, 4, 5], ['a', 'b', 'c'])\n",
    "try:\n",
    "    tuple1[0] = 6\n",
    "except Exception as E:\n",
    "    print(E)\n",
    "\n",
    "def myfunc():\n",
    "   print('안녕하세요')\n",
    "\n",
    "tuple4 = (1, 2, myfunc)\n",
    "tuple4[2]()       # ‘안녕하세요’ 가 출력됨"
   ]
  },
  {
   "cell_type": "markdown",
   "metadata": {},
   "source": [
    "# 사전 ({})\n",
    "* 키와 값\n",
    "* 요소들 사이의 순서가 없음"
   ]
  },
  {
   "cell_type": "code",
   "execution_count": 56,
   "metadata": {
    "ExecuteTime": {
     "end_time": "2019-10-05T17:26:34.120806Z",
     "start_time": "2019-10-05T17:26:34.112838Z"
    }
   },
   "outputs": [
    {
     "name": "stdout",
     "output_type": "stream",
     "text": [
      "1\n",
      "{'a': 1, 'b': 2, 'c': 3, 'd': 4}\n",
      "{'a': 1, 'b': 7, 'c': 3, 'd': 4}\n",
      "4\n"
     ]
    }
   ],
   "source": [
    "dict1 = {'a':1, 'b':2, 'c':3}\n",
    "print(dict1['a'])     # 1이 출력됨\n",
    "dict1['d'] = 4\n",
    "print(dict1)        # {‘a’:1, ‘b’:2’, ‘c’:3, ‘d’:4}가 출력되나 순서가 틀릴 수 있음\n",
    "dict1['b'] = 7\n",
    "print(dict1)        # {‘a’:1, ‘b’:7’, ‘c’:3, ‘d’:4}가 출력되나 순서가 틀릴 수 있음\n",
    "print(len(dict1))    # 4가 출력됨"
   ]
  },
  {
   "cell_type": "markdown",
   "metadata": {},
   "source": [
    "# 함수 (def)\n",
    "\n",
    "* 인자와 리턴값이 있는 함수 선언\n",
    "\n",
    "        def 함수이름(인자1, 인자2, ...):\n",
    "            코드들\n",
    "            return 결과값\n",
    "            \n",
    "* 리턴값은 있지만 인자가 없는 함수 선언\n",
    "\n",
    "        def 함수이름():\n",
    "            코드들\n",
    "            return 결과값\n",
    "    \n",
    "* 인자와 리턴값이 없는 함수 선언 \n",
    "\n",
    "        def 함수이름():\n",
    "            코드들\n",
    "            return (또는 생략)\n",
    "\n",
    "* 인자와 리턴값이 있는 함수 호출\n",
    "\n",
    "        변수 = 함수이름(값1, 값2, ...)\n",
    "\n",
    "* 리턴값이 없는 함수 호출\n",
    "\n",
    "\n",
    "        함수이름(값1, 값2, ...)\n",
    "    \n",
    "* 인자와 리턴값이 없는 함수 호출\n",
    "\n",
    "        함수이름()\n"
   ]
  },
  {
   "cell_type": "code",
   "execution_count": 57,
   "metadata": {
    "ExecuteTime": {
     "end_time": "2019-10-05T17:27:04.405797Z",
     "start_time": "2019-10-05T17:27:04.397814Z"
    }
   },
   "outputs": [
    {
     "name": "stdout",
     "output_type": "stream",
     "text": [
      "25\n",
      "대한민국~만세!!\n"
     ]
    }
   ],
   "source": [
    "def add_number(n1, n2):\n",
    "   ret = n1+n2\n",
    "   return ret\n",
    "\n",
    "def add_txt(t1, t2):\n",
    "   print(t1+t2)\n",
    " \n",
    "ans = add_number(10, 15)\n",
    "print(ans)                   # 25가 출력됨\n",
    "text1 = '대한민국~'\n",
    "text2 ='만세!!'\n",
    "add_txt(text1, text2)         # ‘대한민국~만세!!’가 출력됨"
   ]
  },
  {
   "cell_type": "code",
   "execution_count": null,
   "metadata": {},
   "outputs": [],
   "source": []
  }
 ],
 "metadata": {
  "hide_input": false,
  "kernelspec": {
   "display_name": "Python 3",
   "language": "python",
   "name": "python3"
  },
  "language_info": {
   "codemirror_mode": {
    "name": "ipython",
    "version": 3
   },
   "file_extension": ".py",
   "mimetype": "text/x-python",
   "name": "python",
   "nbconvert_exporter": "python",
   "pygments_lexer": "ipython3",
   "version": "3.6.9"
  },
  "toc": {
   "base_numbering": 1,
   "nav_menu": {},
   "number_sections": true,
   "sideBar": true,
   "skip_h1_title": false,
   "title_cell": "Table of Contents",
   "title_sidebar": "Contents",
   "toc_cell": false,
   "toc_position": {},
   "toc_section_display": true,
   "toc_window_display": false
  },
  "varInspector": {
   "cols": {
    "lenName": 16,
    "lenType": 16,
    "lenVar": 40
   },
   "kernels_config": {
    "python": {
     "delete_cmd_postfix": "",
     "delete_cmd_prefix": "del ",
     "library": "var_list.py",
     "varRefreshCmd": "print(var_dic_list())"
    },
    "r": {
     "delete_cmd_postfix": ") ",
     "delete_cmd_prefix": "rm(",
     "library": "var_list.r",
     "varRefreshCmd": "cat(var_dic_list()) "
    }
   },
   "types_to_exclude": [
    "module",
    "function",
    "builtin_function_or_method",
    "instance",
    "_Feature"
   ],
   "window_display": false
  }
 },
 "nbformat": 4,
 "nbformat_minor": 2
}
